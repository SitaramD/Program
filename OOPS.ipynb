{
 "cells": [
  {
   "cell_type": "code",
   "execution_count": 33,
   "id": "523084a1",
   "metadata": {},
   "outputs": [],
   "source": [
    "# Backtesting using Libraries OOPS"
   ]
  },
  {
   "cell_type": "code",
   "execution_count": 34,
   "id": "3a297137",
   "metadata": {},
   "outputs": [],
   "source": [
    "# https://www.youtube.com/watch?v=yTupVd6D9m8"
   ]
  },
  {
   "cell_type": "code",
   "execution_count": 35,
   "id": "ee7eff5d",
   "metadata": {},
   "outputs": [
    {
     "name": "stdout",
     "output_type": "stream",
     "text": [
      "Requirement already satisfied: pandas in c:\\users\\dell\\anaconda3\\lib\\site-packages (1.4.2)\n"
     ]
    },
    {
     "name": "stderr",
     "output_type": "stream",
     "text": [
      "ERROR: Could not find a version that satisfies the requirement as (from versions: none)\n",
      "ERROR: No matching distribution found for as\n"
     ]
    },
    {
     "name": "stdout",
     "output_type": "stream",
     "text": [
      "Requirement already satisfied: ta in c:\\users\\dell\\anaconda3\\lib\\site-packages (0.10.2)\n",
      "Requirement already satisfied: pandas in c:\\users\\dell\\anaconda3\\lib\\site-packages (from ta) (1.4.2)\n",
      "Requirement already satisfied: numpy in c:\\users\\dell\\anaconda3\\lib\\site-packages (from ta) (1.21.5)\n",
      "Requirement already satisfied: pytz>=2020.1 in c:\\users\\dell\\anaconda3\\lib\\site-packages (from pandas->ta) (2021.3)\n",
      "Requirement already satisfied: python-dateutil>=2.8.1 in c:\\users\\dell\\anaconda3\\lib\\site-packages (from pandas->ta) (2.8.2)\n",
      "Requirement already satisfied: six>=1.5 in c:\\users\\dell\\anaconda3\\lib\\site-packages (from python-dateutil>=2.8.1->pandas->ta) (1.16.0)\n"
     ]
    },
    {
     "name": "stderr",
     "output_type": "stream",
     "text": [
      "ERROR: Could not find a version that satisfies the requirement matplotlib.pyplot (from versions: none)\n",
      "ERROR: No matching distribution found for matplotlib.pyplot\n"
     ]
    },
    {
     "name": "stdout",
     "output_type": "stream",
     "text": [
      "Requirement already satisfied: yfinance in c:\\users\\dell\\anaconda3\\lib\\site-packages (0.1.74)\n"
     ]
    },
    {
     "name": "stderr",
     "output_type": "stream",
     "text": [
      "ERROR: Could not find a version that satisfies the requirement as (from versions: none)\n",
      "ERROR: No matching distribution found for as\n"
     ]
    }
   ],
   "source": [
    "!pip install pandas as pd\n",
    "!pip install  ta\n",
    "!pip install matplotlib.pyplot as plt\n",
    "!pip install  yfinance as yf"
   ]
  },
  {
   "cell_type": "code",
   "execution_count": 36,
   "id": "55ef874a",
   "metadata": {},
   "outputs": [],
   "source": [
    "import pandas as pd\n",
    "import ta\n",
    "import matplotlib.pyplot as plt\n",
    "import yfinance as yf"
   ]
  },
  {
   "cell_type": "code",
   "execution_count": 37,
   "id": "7bbb76d2",
   "metadata": {},
   "outputs": [],
   "source": [
    "class Backtest:\n",
    "    \n",
    "    def _init_(self, symbol):\n",
    "        self.symbol = symbol\n",
    "        self.df  = yf.download(self.symbol, start='2022-01-01')\n",
    "        if self.df.empty:\n",
    "            print('No data pulled')\n",
    "        else:\n",
    "            self.calc_indicators()\n",
    "            \n",
    "    def cal_indicators(self):\n",
    "        self.df['ma_20'] = self.df.Close.rolling(20).mean()\n",
    "        self.df['vol'] = self.df.Close.rolling(20).std()\n",
    "        self.df['upper_bb'] = self.df.ma_20 + (2*self.df.vol)\n",
    "        self.df['lower_bb'] = self.df.ma_20 - (2*self.df.vol)\n",
    "        self.df['rsi'] = ta.momentum.rsi(self.df.Close, window =6)\n",
    "        self.df.dropna(inplace=True)\n",
    "        \n",
    "    def generate_signals(self):\n",
    "        conditions =[(self.df.rsi < 30) & (self.df.Close < self.df.lower_bb), (self.df.rsi) > 70 & (self.df.Close > self.df.upper_bb)]\n",
    "        choices =['Buy', 'Sell']\n",
    "        seld.df['signal'] = np.select( conditions, choices)\n",
    "        self.df.['signal'] = self.df.signal.shift()\n",
    "        self.df.dropna( inplace =True)\n",
    "                  "
   ]
  },
  {
   "cell_type": "code",
   "execution_count": 40,
   "id": "cecd3970",
   "metadata": {},
   "outputs": [
    {
     "ename": "TypeError",
     "evalue": "Backtest() takes no arguments",
     "output_type": "error",
     "traceback": [
      "\u001b[1;31m---------------------------------------------------------------------------\u001b[0m",
      "\u001b[1;31mTypeError\u001b[0m                                 Traceback (most recent call last)",
      "Input \u001b[1;32mIn [40]\u001b[0m, in \u001b[0;36m<cell line: 1>\u001b[1;34m()\u001b[0m\n\u001b[1;32m----> 1\u001b[0m instance \u001b[38;5;241m=\u001b[39m \u001b[43mBacktest\u001b[49m\u001b[43m \u001b[49m\u001b[43m(\u001b[49m\u001b[38;5;124;43m'\u001b[39;49m\u001b[38;5;124;43mAAPL\u001b[39;49m\u001b[38;5;124;43m'\u001b[39;49m\u001b[43m)\u001b[49m\n",
      "\u001b[1;31mTypeError\u001b[0m: Backtest() takes no arguments"
     ]
    }
   ],
   "source": [
    "instance = Backtest ('AAPL')"
   ]
  },
  {
   "cell_type": "code",
   "execution_count": null,
   "id": "633d9e79",
   "metadata": {},
   "outputs": [],
   "source": [
    "instance.symbol"
   ]
  },
  {
   "cell_type": "code",
   "execution_count": 41,
   "id": "dd3ace45",
   "metadata": {},
   "outputs": [
    {
     "ename": "NameError",
     "evalue": "name 'instance' is not defined",
     "output_type": "error",
     "traceback": [
      "\u001b[1;31m---------------------------------------------------------------------------\u001b[0m",
      "\u001b[1;31mNameError\u001b[0m                                 Traceback (most recent call last)",
      "Input \u001b[1;32mIn [41]\u001b[0m, in \u001b[0;36m<cell line: 1>\u001b[1;34m()\u001b[0m\n\u001b[1;32m----> 1\u001b[0m \u001b[43minstance\u001b[49m\u001b[38;5;241m.\u001b[39mdf\n",
      "\u001b[1;31mNameError\u001b[0m: name 'instance' is not defined"
     ]
    }
   ],
   "source": [
    "instance.df"
   ]
  },
  {
   "cell_type": "code",
   "execution_count": null,
   "id": "94accb45",
   "metadata": {},
   "outputs": [],
   "source": []
  },
  {
   "cell_type": "code",
   "execution_count": null,
   "id": "bc4bc005",
   "metadata": {},
   "outputs": [],
   "source": []
  },
  {
   "cell_type": "code",
   "execution_count": null,
   "id": "1e82bd2a",
   "metadata": {},
   "outputs": [],
   "source": []
  }
 ],
 "metadata": {
  "kernelspec": {
   "display_name": "Python 3 (ipykernel)",
   "language": "python",
   "name": "python3"
  },
  "language_info": {
   "codemirror_mode": {
    "name": "ipython",
    "version": 3
   },
   "file_extension": ".py",
   "mimetype": "text/x-python",
   "name": "python",
   "nbconvert_exporter": "python",
   "pygments_lexer": "ipython3",
   "version": "3.9.12"
  }
 },
 "nbformat": 4,
 "nbformat_minor": 5
}
