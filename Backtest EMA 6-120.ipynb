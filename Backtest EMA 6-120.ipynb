{
 "cells": [
  {
   "cell_type": "code",
   "execution_count": 179,
   "id": "6a1cc212",
   "metadata": {},
   "outputs": [],
   "source": [
    "# Bactesting for EMA"
   ]
  },
  {
   "cell_type": "code",
   "execution_count": 180,
   "id": "6e89d997",
   "metadata": {},
   "outputs": [
    {
     "name": "stdout",
     "output_type": "stream",
     "text": [
      "Requirement already satisfied: numpy in c:\\users\\dell\\anaconda3\\lib\\site-packages (1.21.5)\n"
     ]
    },
    {
     "name": "stderr",
     "output_type": "stream",
     "text": [
      "ERROR: Could not find a version that satisfies the requirement as (from versions: none)\n",
      "ERROR: No matching distribution found for as\n"
     ]
    },
    {
     "name": "stdout",
     "output_type": "stream",
     "text": [
      "Requirement already satisfied: pandas in c:\\users\\dell\\anaconda3\\lib\\site-packages (1.4.2)\n"
     ]
    },
    {
     "name": "stderr",
     "output_type": "stream",
     "text": [
      "ERROR: Could not find a version that satisfies the requirement as (from versions: none)\n",
      "ERROR: No matching distribution found for as\n"
     ]
    },
    {
     "name": "stdout",
     "output_type": "stream",
     "text": [
      "Requirement already satisfied: yfinance in c:\\users\\dell\\anaconda3\\lib\\site-packages (0.1.74)\n"
     ]
    },
    {
     "name": "stderr",
     "output_type": "stream",
     "text": [
      "ERROR: Could not find a version that satisfies the requirement as (from versions: none)\n",
      "ERROR: No matching distribution found for as\n",
      "ERROR: Could not find a version that satisfies the requirement matplotlib.pyplot (from versions: none)\n",
      "ERROR: No matching distribution found for matplotlib.pyplot\n"
     ]
    },
    {
     "name": "stdout",
     "output_type": "stream",
     "text": [
      "Requirement already satisfied: seaborn in c:\\users\\dell\\anaconda3\\lib\\site-packages (0.11.2)\n"
     ]
    },
    {
     "name": "stderr",
     "output_type": "stream",
     "text": [
      "ERROR: Could not find a version that satisfies the requirement as (from versions: none)\n",
      "ERROR: No matching distribution found for as\n"
     ]
    }
   ],
   "source": [
    "# Installing Libraries\n",
    "!pip install numpy as np\n",
    "!pip install pandas as pd\n",
    "!pip install yfinance as yf\n",
    "!pip install matplotlib.pyplot as plt\n",
    "!pip install seaborn as sns"
   ]
  },
  {
   "cell_type": "code",
   "execution_count": 181,
   "id": "41597552",
   "metadata": {},
   "outputs": [],
   "source": [
    "# Importing Libraries\n",
    "import pandas as pd\n",
    "import numpy as np\n",
    "import yfinance as yf\n",
    "import talib\n",
    "import matplotlib.pyplot as plt\n",
    "import seaborn as sns"
   ]
  },
  {
   "cell_type": "code",
   "execution_count": 182,
   "id": "944db10d",
   "metadata": {},
   "outputs": [
    {
     "name": "stdout",
     "output_type": "stream",
     "text": [
      "[*********************100%***********************]  1 of 1 completed\n"
     ]
    }
   ],
   "source": [
    "# Download daily data from Yahoo Finance for SPY\n",
    "df= yf.download(\"SPY\", start=\"2021-01-03\", end =\"2022-11-07\", interval=\"1d\")"
   ]
  },
  {
   "cell_type": "code",
   "execution_count": 183,
   "id": "c237b0f3",
   "metadata": {
    "scrolled": true
   },
   "outputs": [
    {
     "data": {
      "text/html": [
       "<div>\n",
       "<style scoped>\n",
       "    .dataframe tbody tr th:only-of-type {\n",
       "        vertical-align: middle;\n",
       "    }\n",
       "\n",
       "    .dataframe tbody tr th {\n",
       "        vertical-align: top;\n",
       "    }\n",
       "\n",
       "    .dataframe thead th {\n",
       "        text-align: right;\n",
       "    }\n",
       "</style>\n",
       "<table border=\"1\" class=\"dataframe\">\n",
       "  <thead>\n",
       "    <tr style=\"text-align: right;\">\n",
       "      <th></th>\n",
       "      <th>Open</th>\n",
       "      <th>High</th>\n",
       "      <th>Low</th>\n",
       "      <th>Close</th>\n",
       "      <th>Adj Close</th>\n",
       "      <th>Volume</th>\n",
       "    </tr>\n",
       "    <tr>\n",
       "      <th>Date</th>\n",
       "      <th></th>\n",
       "      <th></th>\n",
       "      <th></th>\n",
       "      <th></th>\n",
       "      <th></th>\n",
       "      <th></th>\n",
       "    </tr>\n",
       "  </thead>\n",
       "  <tbody>\n",
       "    <tr>\n",
       "      <th>2021-01-04</th>\n",
       "      <td>375.309998</td>\n",
       "      <td>375.450012</td>\n",
       "      <td>364.820007</td>\n",
       "      <td>368.790009</td>\n",
       "      <td>359.773224</td>\n",
       "      <td>110210800</td>\n",
       "    </tr>\n",
       "    <tr>\n",
       "      <th>2021-01-05</th>\n",
       "      <td>368.100006</td>\n",
       "      <td>372.500000</td>\n",
       "      <td>368.049988</td>\n",
       "      <td>371.329987</td>\n",
       "      <td>362.251129</td>\n",
       "      <td>66426200</td>\n",
       "    </tr>\n",
       "    <tr>\n",
       "      <th>2021-01-06</th>\n",
       "      <td>369.709991</td>\n",
       "      <td>376.980011</td>\n",
       "      <td>369.119995</td>\n",
       "      <td>373.549988</td>\n",
       "      <td>364.416840</td>\n",
       "      <td>107997700</td>\n",
       "    </tr>\n",
       "    <tr>\n",
       "      <th>2021-01-07</th>\n",
       "      <td>376.100006</td>\n",
       "      <td>379.899994</td>\n",
       "      <td>375.910004</td>\n",
       "      <td>379.100006</td>\n",
       "      <td>369.831207</td>\n",
       "      <td>68766800</td>\n",
       "    </tr>\n",
       "    <tr>\n",
       "      <th>2021-01-08</th>\n",
       "      <td>380.589996</td>\n",
       "      <td>381.489990</td>\n",
       "      <td>377.100006</td>\n",
       "      <td>381.260010</td>\n",
       "      <td>371.938385</td>\n",
       "      <td>71677200</td>\n",
       "    </tr>\n",
       "    <tr>\n",
       "      <th>...</th>\n",
       "      <td>...</td>\n",
       "      <td>...</td>\n",
       "      <td>...</td>\n",
       "      <td>...</td>\n",
       "      <td>...</td>\n",
       "      <td>...</td>\n",
       "    </tr>\n",
       "    <tr>\n",
       "      <th>2022-10-31</th>\n",
       "      <td>386.440002</td>\n",
       "      <td>388.399994</td>\n",
       "      <td>385.260010</td>\n",
       "      <td>386.209991</td>\n",
       "      <td>386.209991</td>\n",
       "      <td>96631300</td>\n",
       "    </tr>\n",
       "    <tr>\n",
       "      <th>2022-11-01</th>\n",
       "      <td>390.140015</td>\n",
       "      <td>390.390015</td>\n",
       "      <td>383.290009</td>\n",
       "      <td>384.519989</td>\n",
       "      <td>384.519989</td>\n",
       "      <td>85407600</td>\n",
       "    </tr>\n",
       "    <tr>\n",
       "      <th>2022-11-02</th>\n",
       "      <td>383.899994</td>\n",
       "      <td>388.630005</td>\n",
       "      <td>374.760010</td>\n",
       "      <td>374.869995</td>\n",
       "      <td>374.869995</td>\n",
       "      <td>126990400</td>\n",
       "    </tr>\n",
       "    <tr>\n",
       "      <th>2022-11-03</th>\n",
       "      <td>371.470001</td>\n",
       "      <td>374.200012</td>\n",
       "      <td>368.790009</td>\n",
       "      <td>371.010010</td>\n",
       "      <td>371.010010</td>\n",
       "      <td>87100100</td>\n",
       "    </tr>\n",
       "    <tr>\n",
       "      <th>2022-11-04</th>\n",
       "      <td>377.000000</td>\n",
       "      <td>378.869995</td>\n",
       "      <td>370.000000</td>\n",
       "      <td>376.350006</td>\n",
       "      <td>376.350006</td>\n",
       "      <td>103449600</td>\n",
       "    </tr>\n",
       "  </tbody>\n",
       "</table>\n",
       "<p>465 rows × 6 columns</p>\n",
       "</div>"
      ],
      "text/plain": [
       "                  Open        High         Low       Close   Adj Close  \\\n",
       "Date                                                                     \n",
       "2021-01-04  375.309998  375.450012  364.820007  368.790009  359.773224   \n",
       "2021-01-05  368.100006  372.500000  368.049988  371.329987  362.251129   \n",
       "2021-01-06  369.709991  376.980011  369.119995  373.549988  364.416840   \n",
       "2021-01-07  376.100006  379.899994  375.910004  379.100006  369.831207   \n",
       "2021-01-08  380.589996  381.489990  377.100006  381.260010  371.938385   \n",
       "...                ...         ...         ...         ...         ...   \n",
       "2022-10-31  386.440002  388.399994  385.260010  386.209991  386.209991   \n",
       "2022-11-01  390.140015  390.390015  383.290009  384.519989  384.519989   \n",
       "2022-11-02  383.899994  388.630005  374.760010  374.869995  374.869995   \n",
       "2022-11-03  371.470001  374.200012  368.790009  371.010010  371.010010   \n",
       "2022-11-04  377.000000  378.869995  370.000000  376.350006  376.350006   \n",
       "\n",
       "               Volume  \n",
       "Date                   \n",
       "2021-01-04  110210800  \n",
       "2021-01-05   66426200  \n",
       "2021-01-06  107997700  \n",
       "2021-01-07   68766800  \n",
       "2021-01-08   71677200  \n",
       "...               ...  \n",
       "2022-10-31   96631300  \n",
       "2022-11-01   85407600  \n",
       "2022-11-02  126990400  \n",
       "2022-11-03   87100100  \n",
       "2022-11-04  103449600  \n",
       "\n",
       "[465 rows x 6 columns]"
      ]
     },
     "execution_count": 183,
     "metadata": {},
     "output_type": "execute_result"
    }
   ],
   "source": [
    "# Print dataframe\n",
    "df"
   ]
  },
  {
   "cell_type": "code",
   "execution_count": 184,
   "id": "7b1b261d",
   "metadata": {},
   "outputs": [],
   "source": [
    "# Considering only closing values \n",
    "Close = df[\"Close\"]"
   ]
  },
  {
   "cell_type": "code",
   "execution_count": 185,
   "id": "4da5bb14",
   "metadata": {},
   "outputs": [
    {
     "name": "stdout",
     "output_type": "stream",
     "text": [
      "<class 'pandas.core.series.Series'>\n"
     ]
    }
   ],
   "source": [
    "# Checking the datatype of Close\n",
    "print(type(Close))"
   ]
  },
  {
   "cell_type": "code",
   "execution_count": 186,
   "id": "24ffe083",
   "metadata": {},
   "outputs": [],
   "source": [
    "# Extracting 6 ema using talib library\n",
    "ema6 = talib.EMA(Close, timeperiod = 6)"
   ]
  },
  {
   "cell_type": "code",
   "execution_count": 187,
   "id": "ad22b117",
   "metadata": {},
   "outputs": [],
   "source": [
    "# Extracting 120 ema using talib library\n",
    "ema120 = talib.EMA(Close, timeperiod = 120)"
   ]
  },
  {
   "cell_type": "code",
   "execution_count": 188,
   "id": "08fdb724",
   "metadata": {},
   "outputs": [
    {
     "data": {
      "text/plain": [
       "Date\n",
       "2021-01-04           NaN\n",
       "2021-01-05           NaN\n",
       "2021-01-06           NaN\n",
       "2021-01-07           NaN\n",
       "2021-01-08           NaN\n",
       "                 ...    \n",
       "2022-10-31    382.585059\n",
       "2022-11-01    383.137896\n",
       "2022-11-02    380.775639\n",
       "2022-11-03    377.985459\n",
       "2022-11-04    377.518187\n",
       "Length: 465, dtype: float64"
      ]
     },
     "execution_count": 188,
     "metadata": {},
     "output_type": "execute_result"
    }
   ],
   "source": [
    "# Printing EMA 6\n",
    "ema6"
   ]
  },
  {
   "cell_type": "code",
   "execution_count": 189,
   "id": "c05c9ce2",
   "metadata": {},
   "outputs": [
    {
     "data": {
      "text/plain": [
       "Date\n",
       "2021-01-04           NaN\n",
       "2021-01-05           NaN\n",
       "2021-01-06           NaN\n",
       "2021-01-07           NaN\n",
       "2021-01-08           NaN\n",
       "                 ...    \n",
       "2022-10-31    394.160337\n",
       "2022-11-01    394.000992\n",
       "2022-11-02    393.684777\n",
       "2022-11-03    393.309988\n",
       "2022-11-04    393.029658\n",
       "Length: 465, dtype: float64"
      ]
     },
     "execution_count": 189,
     "metadata": {},
     "output_type": "execute_result"
    }
   ],
   "source": [
    "# Printing EMA120\n",
    "ema120"
   ]
  },
  {
   "cell_type": "code",
   "execution_count": 190,
   "id": "2e7bf798",
   "metadata": {},
   "outputs": [],
   "source": [
    "# Creating a new column by incorporating  EMA6 and EMA120 in the dataframe df\n",
    "df[\"ema6\"] = ema6\n",
    "df[\"ema120\"] = ema120"
   ]
  },
  {
   "cell_type": "code",
   "execution_count": 191,
   "id": "cb74dfe8",
   "metadata": {},
   "outputs": [
    {
     "data": {
      "text/html": [
       "<div>\n",
       "<style scoped>\n",
       "    .dataframe tbody tr th:only-of-type {\n",
       "        vertical-align: middle;\n",
       "    }\n",
       "\n",
       "    .dataframe tbody tr th {\n",
       "        vertical-align: top;\n",
       "    }\n",
       "\n",
       "    .dataframe thead th {\n",
       "        text-align: right;\n",
       "    }\n",
       "</style>\n",
       "<table border=\"1\" class=\"dataframe\">\n",
       "  <thead>\n",
       "    <tr style=\"text-align: right;\">\n",
       "      <th></th>\n",
       "      <th>Open</th>\n",
       "      <th>High</th>\n",
       "      <th>Low</th>\n",
       "      <th>Close</th>\n",
       "      <th>Adj Close</th>\n",
       "      <th>Volume</th>\n",
       "      <th>ema6</th>\n",
       "      <th>ema120</th>\n",
       "    </tr>\n",
       "    <tr>\n",
       "      <th>Date</th>\n",
       "      <th></th>\n",
       "      <th></th>\n",
       "      <th></th>\n",
       "      <th></th>\n",
       "      <th></th>\n",
       "      <th></th>\n",
       "      <th></th>\n",
       "      <th></th>\n",
       "    </tr>\n",
       "  </thead>\n",
       "  <tbody>\n",
       "    <tr>\n",
       "      <th>2021-01-04</th>\n",
       "      <td>375.309998</td>\n",
       "      <td>375.450012</td>\n",
       "      <td>364.820007</td>\n",
       "      <td>368.790009</td>\n",
       "      <td>359.773224</td>\n",
       "      <td>110210800</td>\n",
       "      <td>NaN</td>\n",
       "      <td>NaN</td>\n",
       "    </tr>\n",
       "    <tr>\n",
       "      <th>2021-01-05</th>\n",
       "      <td>368.100006</td>\n",
       "      <td>372.500000</td>\n",
       "      <td>368.049988</td>\n",
       "      <td>371.329987</td>\n",
       "      <td>362.251129</td>\n",
       "      <td>66426200</td>\n",
       "      <td>NaN</td>\n",
       "      <td>NaN</td>\n",
       "    </tr>\n",
       "    <tr>\n",
       "      <th>2021-01-06</th>\n",
       "      <td>369.709991</td>\n",
       "      <td>376.980011</td>\n",
       "      <td>369.119995</td>\n",
       "      <td>373.549988</td>\n",
       "      <td>364.416840</td>\n",
       "      <td>107997700</td>\n",
       "      <td>NaN</td>\n",
       "      <td>NaN</td>\n",
       "    </tr>\n",
       "    <tr>\n",
       "      <th>2021-01-07</th>\n",
       "      <td>376.100006</td>\n",
       "      <td>379.899994</td>\n",
       "      <td>375.910004</td>\n",
       "      <td>379.100006</td>\n",
       "      <td>369.831207</td>\n",
       "      <td>68766800</td>\n",
       "      <td>NaN</td>\n",
       "      <td>NaN</td>\n",
       "    </tr>\n",
       "    <tr>\n",
       "      <th>2021-01-08</th>\n",
       "      <td>380.589996</td>\n",
       "      <td>381.489990</td>\n",
       "      <td>377.100006</td>\n",
       "      <td>381.260010</td>\n",
       "      <td>371.938385</td>\n",
       "      <td>71677200</td>\n",
       "      <td>NaN</td>\n",
       "      <td>NaN</td>\n",
       "    </tr>\n",
       "    <tr>\n",
       "      <th>...</th>\n",
       "      <td>...</td>\n",
       "      <td>...</td>\n",
       "      <td>...</td>\n",
       "      <td>...</td>\n",
       "      <td>...</td>\n",
       "      <td>...</td>\n",
       "      <td>...</td>\n",
       "      <td>...</td>\n",
       "    </tr>\n",
       "    <tr>\n",
       "      <th>2022-10-31</th>\n",
       "      <td>386.440002</td>\n",
       "      <td>388.399994</td>\n",
       "      <td>385.260010</td>\n",
       "      <td>386.209991</td>\n",
       "      <td>386.209991</td>\n",
       "      <td>96631300</td>\n",
       "      <td>382.585059</td>\n",
       "      <td>394.160337</td>\n",
       "    </tr>\n",
       "    <tr>\n",
       "      <th>2022-11-01</th>\n",
       "      <td>390.140015</td>\n",
       "      <td>390.390015</td>\n",
       "      <td>383.290009</td>\n",
       "      <td>384.519989</td>\n",
       "      <td>384.519989</td>\n",
       "      <td>85407600</td>\n",
       "      <td>383.137896</td>\n",
       "      <td>394.000992</td>\n",
       "    </tr>\n",
       "    <tr>\n",
       "      <th>2022-11-02</th>\n",
       "      <td>383.899994</td>\n",
       "      <td>388.630005</td>\n",
       "      <td>374.760010</td>\n",
       "      <td>374.869995</td>\n",
       "      <td>374.869995</td>\n",
       "      <td>126990400</td>\n",
       "      <td>380.775639</td>\n",
       "      <td>393.684777</td>\n",
       "    </tr>\n",
       "    <tr>\n",
       "      <th>2022-11-03</th>\n",
       "      <td>371.470001</td>\n",
       "      <td>374.200012</td>\n",
       "      <td>368.790009</td>\n",
       "      <td>371.010010</td>\n",
       "      <td>371.010010</td>\n",
       "      <td>87100100</td>\n",
       "      <td>377.985459</td>\n",
       "      <td>393.309988</td>\n",
       "    </tr>\n",
       "    <tr>\n",
       "      <th>2022-11-04</th>\n",
       "      <td>377.000000</td>\n",
       "      <td>378.869995</td>\n",
       "      <td>370.000000</td>\n",
       "      <td>376.350006</td>\n",
       "      <td>376.350006</td>\n",
       "      <td>103449600</td>\n",
       "      <td>377.518187</td>\n",
       "      <td>393.029658</td>\n",
       "    </tr>\n",
       "  </tbody>\n",
       "</table>\n",
       "<p>465 rows × 8 columns</p>\n",
       "</div>"
      ],
      "text/plain": [
       "                  Open        High         Low       Close   Adj Close  \\\n",
       "Date                                                                     \n",
       "2021-01-04  375.309998  375.450012  364.820007  368.790009  359.773224   \n",
       "2021-01-05  368.100006  372.500000  368.049988  371.329987  362.251129   \n",
       "2021-01-06  369.709991  376.980011  369.119995  373.549988  364.416840   \n",
       "2021-01-07  376.100006  379.899994  375.910004  379.100006  369.831207   \n",
       "2021-01-08  380.589996  381.489990  377.100006  381.260010  371.938385   \n",
       "...                ...         ...         ...         ...         ...   \n",
       "2022-10-31  386.440002  388.399994  385.260010  386.209991  386.209991   \n",
       "2022-11-01  390.140015  390.390015  383.290009  384.519989  384.519989   \n",
       "2022-11-02  383.899994  388.630005  374.760010  374.869995  374.869995   \n",
       "2022-11-03  371.470001  374.200012  368.790009  371.010010  371.010010   \n",
       "2022-11-04  377.000000  378.869995  370.000000  376.350006  376.350006   \n",
       "\n",
       "               Volume        ema6      ema120  \n",
       "Date                                           \n",
       "2021-01-04  110210800         NaN         NaN  \n",
       "2021-01-05   66426200         NaN         NaN  \n",
       "2021-01-06  107997700         NaN         NaN  \n",
       "2021-01-07   68766800         NaN         NaN  \n",
       "2021-01-08   71677200         NaN         NaN  \n",
       "...               ...         ...         ...  \n",
       "2022-10-31   96631300  382.585059  394.160337  \n",
       "2022-11-01   85407600  383.137896  394.000992  \n",
       "2022-11-02  126990400  380.775639  393.684777  \n",
       "2022-11-03   87100100  377.985459  393.309988  \n",
       "2022-11-04  103449600  377.518187  393.029658  \n",
       "\n",
       "[465 rows x 8 columns]"
      ]
     },
     "execution_count": 191,
     "metadata": {},
     "output_type": "execute_result"
    }
   ],
   "source": [
    "df"
   ]
  },
  {
   "cell_type": "code",
   "execution_count": 192,
   "id": "6fb1562f",
   "metadata": {},
   "outputs": [],
   "source": [
    "# Filling NAN vales backwards for Dataframe\n",
    "df =df.fillna( method = \"bfill\")"
   ]
  },
  {
   "cell_type": "code",
   "execution_count": 227,
   "id": "43ed66ea",
   "metadata": {},
   "outputs": [
    {
     "data": {
      "text/plain": [
       "<AxesSubplot:xlabel='Date'>"
      ]
     },
     "execution_count": 227,
     "metadata": {},
     "output_type": "execute_result"
    },
    {
     "data": {
      "image/png": "[encoded data removed]",
      "text/plain": [
       "<Figure size 864x360 with 1 Axes>"
      ]
     },
     "metadata": {
      "needs_background": "light"
     },
     "output_type": "display_data"
    }
   ],
   "source": [
    "# Plotting ema6 Vs ema120\n",
    "import matplotlib.pyplot as plt # Impot the relevant module\n",
    "fig, ax = plt.subplots(figsize=(12, 5)) # Create the figure and axes object\n",
    "# Plot the first x and y axes:\n",
    "df.plot( y = 'ema6',ax = ax) \n",
    "# Plot the second x and y axes. By secondary_y = True a second y-axis is requested:\n",
    "# (see https://pandas.pydata.org/pandas-docs/stable/reference/api/pandas.DataFrame.plot.html for details)\n",
    "df.plot(y = 'ema120', ax = ax,secondary_y =False) "
   ]
  },
  {
   "cell_type": "code",
   "execution_count": null,
   "id": "f96768c0",
   "metadata": {},
   "outputs": [],
   "source": [
    "# Need to backtest the results using code"
   ]
  },
  {
   "cell_type": "code",
   "execution_count": null,
   "id": "360f9450",
   "metadata": {},
   "outputs": [],
   "source": [
    "# Crtiteria for back testing\n",
    "# Considering stoploss = 4% and Target price of 6%, entry price = Closing value\n",
    "# To check the number of positions opened is less than or equal to Account size = $100000\n",
    "# If stoploss is equal to next day loss, book loss and close the trade.\n",
    "# If Target Price is equal to Next day high value, book profit and close the trade."
   ]
  },
  {
   "cell_type": "code",
   "execution_count": null,
   "id": "3a30a2a0",
   "metadata": {},
   "outputs": [],
   "source": [
    "# Using a for loop to compare 6ema with 120ema and generating a signal.\n",
    "Buy_position = 0\n",
    "sell_position = 0\n",
    "Buy_Amount =0\n",
    "sell_Amount =0\n",
    "Account_Size = 100000\n",
    "df[\"Stoploss\"]=pd.DataFrame()\n",
    "df[\"Target Price\"]=pd.DataFrame()\n",
    "quantity =1\n",
    "#position = int\n",
    "for i in range(len(df)):\n",
    "    if df[\"ema6\"][i] < df[\"ema120\"][i]:  # ema6 should be less than ema120.\n",
    "        #print(\" Buy Signal\")\n",
    "        print(\"Buy Entry Price\", df[\"Close\"][i])\n",
    "        df[\"Stoploss\"][i] = df[\"Close\"][i] - 0.04*df[\"Close\"][i]\n",
    "        df[\"Target Price\"] = df[\"Close\"][i] + 0.06*df[\"Close\"][i]\n",
    "        Buy_position = Buy_position + 1\n",
    "        Buy_Amount = quantity*Buy_position\n",
    "        if Buy_Amount > Account_Size:\n",
    "            Break\n",
    "        print(\"**********************\")        \n",
    "    else:\n",
    "        #print('Sell signal')\n",
    "        print(\"Sell Entry Price\", df[\"Close\"][i])\n",
    "        df[\"Stoploss\"] = df[\"Close\"][i] - 0.04*df[\"Close\"][i]\n",
    "        df[\"Target Price\"] = df[\"Close\"][i] + 0.06*df[\"Close\"][i]\n",
    "        sell_position =sell_position +1\n",
    "        Sell_Amount = quantity*sell_position\n",
    "        print(\"**********************\")\n",
    "       "
   ]
  },
  {
   "cell_type": "code",
   "execution_count": null,
   "id": "a5289221",
   "metadata": {},
   "outputs": [],
   "source": []
  }
 ],
 "metadata": {
  "kernelspec": {
   "display_name": "Python 3 (ipykernel)",
   "language": "python",
   "name": "python3"
  },
  "language_info": {
   "codemirror_mode": {
    "name": "ipython",
    "version": 3
   },
   "file_extension": ".py",
   "mimetype": "text/x-python",
   "name": "python",
   "nbconvert_exporter": "python",
   "pygments_lexer": "ipython3",
   "version": "3.9.12"
  }
 },
 "nbformat": 4,
 "nbformat_minor": 5
}
