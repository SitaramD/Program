{
 "cells": [
  {
   "cell_type": "code",
   "execution_count": 39,
   "id": "631c3393",
   "metadata": {},
   "outputs": [],
   "source": [
    "# Bactesting for EMA using Backtrader"
   ]
  },
  {
   "cell_type": "code",
   "execution_count": 40,
   "id": "9792f29f",
   "metadata": {},
   "outputs": [
    {
     "name": "stdout",
     "output_type": "stream",
     "text": [
      "Requirement already satisfied: numpy in c:\\users\\dell\\anaconda3\\lib\\site-packages (1.23.4)"
     ]
    },
    {
     "name": "stderr",
     "output_type": "stream",
     "text": [
      "WARNING: Ignoring invalid distribution -atplotlib (c:\\users\\dell\\anaconda3\\lib\\site-packages)\n",
      "WARNING: Ignoring invalid distribution -atplotlib (c:\\users\\dell\\anaconda3\\lib\\site-packages)\n",
      "ERROR: Could not find a version that satisfies the requirement as (from versions: none)\n",
      "ERROR: No matching distribution found for as\n",
      "WARNING: Ignoring invalid distribution -atplotlib (c:\\users\\dell\\anaconda3\\lib\\site-packages)\n",
      "WARNING: Ignoring invalid distribution -atplotlib (c:\\users\\dell\\anaconda3\\lib\\site-packages)\n",
      "WARNING: Ignoring invalid distribution -atplotlib (c:\\users\\dell\\anaconda3\\lib\\site-packages)\n"
     ]
    },
    {
     "name": "stdout",
     "output_type": "stream",
     "text": [
      "\n",
      "Requirement already satisfied: pandas in c:\\users\\dell\\anaconda3\\lib\\site-packages (1.4.2)\n"
     ]
    },
    {
     "name": "stderr",
     "output_type": "stream",
     "text": [
      "WARNING: Ignoring invalid distribution -atplotlib (c:\\users\\dell\\anaconda3\\lib\\site-packages)\n",
      "WARNING: Ignoring invalid distribution -atplotlib (c:\\users\\dell\\anaconda3\\lib\\site-packages)\n",
      "ERROR: Could not find a version that satisfies the requirement as (from versions: none)\n",
      "ERROR: No matching distribution found for as\n",
      "WARNING: Ignoring invalid distribution -atplotlib (c:\\users\\dell\\anaconda3\\lib\\site-packages)\n",
      "WARNING: Ignoring invalid distribution -atplotlib (c:\\users\\dell\\anaconda3\\lib\\site-packages)\n",
      "WARNING: Ignoring invalid distribution -atplotlib (c:\\users\\dell\\anaconda3\\lib\\site-packages)\n"
     ]
    },
    {
     "name": "stdout",
     "output_type": "stream",
     "text": [
      "Requirement already satisfied: yfinance in c:\\users\\dell\\anaconda3\\lib\\site-packages (0.1.74)\n"
     ]
    },
    {
     "name": "stderr",
     "output_type": "stream",
     "text": [
      "WARNING: Ignoring invalid distribution -atplotlib (c:\\users\\dell\\anaconda3\\lib\\site-packages)\n",
      "WARNING: Ignoring invalid distribution -atplotlib (c:\\users\\dell\\anaconda3\\lib\\site-packages)\n",
      "ERROR: Could not find a version that satisfies the requirement as (from versions: none)\n",
      "ERROR: No matching distribution found for as\n",
      "WARNING: Ignoring invalid distribution -atplotlib (c:\\users\\dell\\anaconda3\\lib\\site-packages)\n",
      "WARNING: Ignoring invalid distribution -atplotlib (c:\\users\\dell\\anaconda3\\lib\\site-packages)\n",
      "WARNING: Ignoring invalid distribution -atplotlib (c:\\users\\dell\\anaconda3\\lib\\site-packages)\n"
     ]
    },
    {
     "name": "stdout",
     "output_type": "stream",
     "text": [
      "Requirement already satisfied: seaborn in c:\\users\\dell\\anaconda3\\lib\\site-packages (0.11.2)\n"
     ]
    },
    {
     "name": "stderr",
     "output_type": "stream",
     "text": [
      "WARNING: Ignoring invalid distribution -atplotlib (c:\\users\\dell\\anaconda3\\lib\\site-packages)\n",
      "WARNING: Ignoring invalid distribution -atplotlib (c:\\users\\dell\\anaconda3\\lib\\site-packages)\n",
      "ERROR: Could not find a version that satisfies the requirement as (from versions: none)\n",
      "ERROR: No matching distribution found for as\n",
      "WARNING: Ignoring invalid distribution -atplotlib (c:\\users\\dell\\anaconda3\\lib\\site-packages)\n",
      "WARNING: Ignoring invalid distribution -atplotlib (c:\\users\\dell\\anaconda3\\lib\\site-packages)\n",
      "WARNING: Ignoring invalid distribution -atplotlib (c:\\users\\dell\\anaconda3\\lib\\site-packages)\n"
     ]
    },
    {
     "name": "stdout",
     "output_type": "stream",
     "text": [
      "Requirement already satisfied: backtrader in c:\\users\\dell\\anaconda3\\lib\\site-packages (1.9.76.123)\n"
     ]
    },
    {
     "name": "stderr",
     "output_type": "stream",
     "text": [
      "WARNING: Ignoring invalid distribution -atplotlib (c:\\users\\dell\\anaconda3\\lib\\site-packages)\n",
      "WARNING: Ignoring invalid distribution -atplotlib (c:\\users\\dell\\anaconda3\\lib\\site-packages)\n",
      "ERROR: Could not find a version that satisfies the requirement as (from versions: none)\n",
      "ERROR: No matching distribution found for as\n",
      "WARNING: Ignoring invalid distribution -atplotlib (c:\\users\\dell\\anaconda3\\lib\\site-packages)\n",
      "WARNING: Ignoring invalid distribution -atplotlib (c:\\users\\dell\\anaconda3\\lib\\site-packages)\n",
      "WARNING: Ignoring invalid distribution -atplotlib (c:\\users\\dell\\anaconda3\\lib\\site-packages)\n"
     ]
    },
    {
     "name": "stdout",
     "output_type": "stream",
     "text": [
      "Collecting datetime\n",
      "  Using cached DateTime-4.7-py2.py3-none-any.whl (52 kB)\n"
     ]
    },
    {
     "name": "stderr",
     "output_type": "stream",
     "text": [
      "WARNING: Ignoring invalid distribution -atplotlib (c:\\users\\dell\\anaconda3\\lib\\site-packages)\n",
      "WARNING: Ignoring invalid distribution -atplotlib (c:\\users\\dell\\anaconda3\\lib\\site-packages)\n",
      "ERROR: Could not find a version that satisfies the requirement as (from versions: none)\n",
      "ERROR: No matching distribution found for as\n",
      "WARNING: Ignoring invalid distribution -atplotlib (c:\\users\\dell\\anaconda3\\lib\\site-packages)\n",
      "WARNING: Ignoring invalid distribution -atplotlib (c:\\users\\dell\\anaconda3\\lib\\site-packages)\n",
      "WARNING: Ignoring invalid distribution -atplotlib (c:\\users\\dell\\anaconda3\\lib\\site-packages)\n"
     ]
    },
    {
     "name": "stdout",
     "output_type": "stream",
     "text": [
      "Collecting basemap\n",
      "  Using cached basemap-1.3.6-cp39-cp39-win_amd64.whl (488 kB)\n",
      "Requirement already satisfied: pyproj<3.5.0,>=1.9.3 in c:\\users\\dell\\anaconda3\\lib\\site-packages (from basemap) (3.4.0)\n",
      "Requirement already satisfied: numpy<1.24,>=1.22 in c:\\users\\dell\\anaconda3\\lib\\site-packages (from basemap) (1.23.4)\n",
      "Requirement already satisfied: pyshp<2.4,>=1.2 in c:\\users\\dell\\anaconda3\\lib\\site-packages (from basemap) (2.3.1)\n",
      "Collecting basemap-data<1.4,>=1.3.2\n",
      "  Using cached basemap_data-1.3.2-py2.py3-none-any.whl (30.5 MB)\n",
      "Collecting matplotlib<3.7,>=1.5\n",
      "  Using cached matplotlib-3.6.2-cp39-cp39-win_amd64.whl (7.2 MB)\n",
      "Requirement already satisfied: pillow>=6.2.0 in c:\\users\\dell\\anaconda3\\lib\\site-packages (from matplotlib<3.7,>=1.5->basemap) (9.0.1)\n",
      "Requirement already satisfied: cycler>=0.10 in c:\\users\\dell\\anaconda3\\lib\\site-packages (from matplotlib<3.7,>=1.5->basemap) (0.11.0)\n",
      "Requirement already satisfied: fonttools>=4.22.0 in c:\\users\\dell\\anaconda3\\lib\\site-packages (from matplotlib<3.7,>=1.5->basemap) (4.25.0)\n",
      "Requirement already satisfied: python-dateutil>=2.7 in c:\\users\\dell\\anaconda3\\lib\\site-packages (from matplotlib<3.7,>=1.5->basemap) (2.8.2)\n",
      "Requirement already satisfied: kiwisolver>=1.0.1 in c:\\users\\dell\\anaconda3\\lib\\site-packages (from matplotlib<3.7,>=1.5->basemap) (1.3.2)\n",
      "Requirement already satisfied: packaging>=20.0 in c:\\users\\dell\\anaconda3\\lib\\site-packages (from matplotlib<3.7,>=1.5->basemap) (21.3)\n",
      "Requirement already satisfied: pyparsing>=2.2.1 in c:\\users\\dell\\anaconda3\\lib\\site-packages (from matplotlib<3.7,>=1.5->basemap) (3.0.4)\n",
      "Requirement already satisfied: contourpy>=1.0.1 in c:\\users\\dell\\anaconda3\\lib\\site-packages (from matplotlib<3.7,>=1.5->basemap) (1.0.6)\n",
      "Requirement already satisfied: certifi in c:\\users\\dell\\anaconda3\\lib\\site-packages (from pyproj<3.5.0,>=1.9.3->basemap) (2021.10.8)\n",
      "Requirement already satisfied: six>=1.5 in c:\\users\\dell\\anaconda3\\lib\\site-packages (from python-dateutil>=2.7->matplotlib<3.7,>=1.5->basemap) (1.16.0)\n",
      "Installing collected packages: matplotlib, basemap-data, basemap\n"
     ]
    },
    {
     "name": "stderr",
     "output_type": "stream",
     "text": [
      "WARNING: Ignoring invalid distribution -atplotlib (c:\\users\\dell\\anaconda3\\lib\\site-packages)\n",
      "WARNING: Ignoring invalid distribution -atplotlib (c:\\users\\dell\\anaconda3\\lib\\site-packages)\n",
      "WARNING: Ignoring invalid distribution -atplotlib (c:\\users\\dell\\anaconda3\\lib\\site-packages)\n",
      "ERROR: Could not install packages due to an OSError: [WinError 5] Access is denied: 'C:\\\\Users\\\\DELL\\\\anaconda3\\\\Lib\\\\site-packages\\\\matplotlib\\\\_c_internal_utils.cp39-win_amd64.pyd'\n",
      "Consider using the `--user` option or check the permissions.\n",
      "\n",
      "WARNING: Ignoring invalid distribution -atplotlib (c:\\users\\dell\\anaconda3\\lib\\site-packages)\n",
      "WARNING: Ignoring invalid distribution -atplotlib (c:\\users\\dell\\anaconda3\\lib\\site-packages)\n",
      "WARNING: Ignoring invalid distribution -atplotlib (c:\\users\\dell\\anaconda3\\lib\\site-packages)\n"
     ]
    }
   ],
   "source": [
    "# Installing Libraries\n",
    "!pip install numpy as np\n",
    "!pip install pandas as pd\n",
    "!pip install yfinance as yf\n",
    "#!pip install matplotlib.pyplot as plt\n",
    "!pip install seaborn as sns\n",
    "!pip install backtrader as bt\n",
    "!pip install datetime as dt\n",
    "!pip install -U basemap"
   ]
  },
  {
   "cell_type": "code",
   "execution_count": 41,
   "id": "292d7100",
   "metadata": {},
   "outputs": [],
   "source": [
    "# Importing Libraries\n",
    "import pandas as pd\n",
    "import numpy as np\n",
    "import yfinance as yf\n",
    "import talib\n",
    "#import matplotlib.pyplot as plt\n",
    "#import seaborn as sns\n",
    "import datetime"
   ]
  },
  {
   "cell_type": "code",
   "execution_count": 42,
   "id": "bee64cc5",
   "metadata": {},
   "outputs": [
    {
     "name": "stdout",
     "output_type": "stream",
     "text": [
      "[*********************100%***********************]  1 of 1 completed\n"
     ]
    }
   ],
   "source": [
    "# Download daily data from Yahoo Finance for SPY\n",
    "df= yf.download(\"SPY\", start=\"2021-01-03\", end =\"2022-11-15\", interval=\"1d\")"
   ]
  },
  {
   "cell_type": "code",
   "execution_count": 43,
   "id": "fc9c3bee",
   "metadata": {
    "scrolled": true
   },
   "outputs": [
    {
     "data": {
      "text/html": [
       "<div>\n",
       "<style scoped>\n",
       "    .dataframe tbody tr th:only-of-type {\n",
       "        vertical-align: middle;\n",
       "    }\n",
       "\n",
       "    .dataframe tbody tr th {\n",
       "        vertical-align: top;\n",
       "    }\n",
       "\n",
       "    .dataframe thead th {\n",
       "        text-align: right;\n",
       "    }\n",
       "</style>\n",
       "<table border=\"1\" class=\"dataframe\">\n",
       "  <thead>\n",
       "    <tr style=\"text-align: right;\">\n",
       "      <th></th>\n",
       "      <th>Open</th>\n",
       "      <th>High</th>\n",
       "      <th>Low</th>\n",
       "      <th>Close</th>\n",
       "      <th>Adj Close</th>\n",
       "      <th>Volume</th>\n",
       "    </tr>\n",
       "    <tr>\n",
       "      <th>Date</th>\n",
       "      <th></th>\n",
       "      <th></th>\n",
       "      <th></th>\n",
       "      <th></th>\n",
       "      <th></th>\n",
       "      <th></th>\n",
       "    </tr>\n",
       "  </thead>\n",
       "  <tbody>\n",
       "    <tr>\n",
       "      <th>2021-01-04</th>\n",
       "      <td>375.309998</td>\n",
       "      <td>375.450012</td>\n",
       "      <td>364.820007</td>\n",
       "      <td>368.790009</td>\n",
       "      <td>359.773285</td>\n",
       "      <td>110210800</td>\n",
       "    </tr>\n",
       "    <tr>\n",
       "      <th>2021-01-05</th>\n",
       "      <td>368.100006</td>\n",
       "      <td>372.500000</td>\n",
       "      <td>368.049988</td>\n",
       "      <td>371.329987</td>\n",
       "      <td>362.251160</td>\n",
       "      <td>66426200</td>\n",
       "    </tr>\n",
       "    <tr>\n",
       "      <th>2021-01-06</th>\n",
       "      <td>369.709991</td>\n",
       "      <td>376.980011</td>\n",
       "      <td>369.119995</td>\n",
       "      <td>373.549988</td>\n",
       "      <td>364.416840</td>\n",
       "      <td>107997700</td>\n",
       "    </tr>\n",
       "    <tr>\n",
       "      <th>2021-01-07</th>\n",
       "      <td>376.100006</td>\n",
       "      <td>379.899994</td>\n",
       "      <td>375.910004</td>\n",
       "      <td>379.100006</td>\n",
       "      <td>369.831146</td>\n",
       "      <td>68766800</td>\n",
       "    </tr>\n",
       "    <tr>\n",
       "      <th>2021-01-08</th>\n",
       "      <td>380.589996</td>\n",
       "      <td>381.489990</td>\n",
       "      <td>377.100006</td>\n",
       "      <td>381.260010</td>\n",
       "      <td>371.938416</td>\n",
       "      <td>71677200</td>\n",
       "    </tr>\n",
       "    <tr>\n",
       "      <th>...</th>\n",
       "      <td>...</td>\n",
       "      <td>...</td>\n",
       "      <td>...</td>\n",
       "      <td>...</td>\n",
       "      <td>...</td>\n",
       "      <td>...</td>\n",
       "    </tr>\n",
       "    <tr>\n",
       "      <th>2022-11-07</th>\n",
       "      <td>377.709991</td>\n",
       "      <td>380.570007</td>\n",
       "      <td>375.529999</td>\n",
       "      <td>379.950012</td>\n",
       "      <td>379.950012</td>\n",
       "      <td>68286900</td>\n",
       "    </tr>\n",
       "    <tr>\n",
       "      <th>2022-11-08</th>\n",
       "      <td>381.109985</td>\n",
       "      <td>385.119995</td>\n",
       "      <td>377.720001</td>\n",
       "      <td>382.000000</td>\n",
       "      <td>382.000000</td>\n",
       "      <td>84641100</td>\n",
       "    </tr>\n",
       "    <tr>\n",
       "      <th>2022-11-09</th>\n",
       "      <td>379.929993</td>\n",
       "      <td>381.140015</td>\n",
       "      <td>373.609985</td>\n",
       "      <td>374.130005</td>\n",
       "      <td>374.130005</td>\n",
       "      <td>78495500</td>\n",
       "    </tr>\n",
       "    <tr>\n",
       "      <th>2022-11-10</th>\n",
       "      <td>388.049988</td>\n",
       "      <td>395.040009</td>\n",
       "      <td>385.640015</td>\n",
       "      <td>394.690002</td>\n",
       "      <td>394.690002</td>\n",
       "      <td>141455800</td>\n",
       "    </tr>\n",
       "    <tr>\n",
       "      <th>2022-11-11</th>\n",
       "      <td>395.589996</td>\n",
       "      <td>399.350006</td>\n",
       "      <td>393.609985</td>\n",
       "      <td>398.510010</td>\n",
       "      <td>398.510010</td>\n",
       "      <td>93758600</td>\n",
       "    </tr>\n",
       "  </tbody>\n",
       "</table>\n",
       "<p>470 rows × 6 columns</p>\n",
       "</div>"
      ],
      "text/plain": [
       "                  Open        High         Low       Close   Adj Close  \\\n",
       "Date                                                                     \n",
       "2021-01-04  375.309998  375.450012  364.820007  368.790009  359.773285   \n",
       "2021-01-05  368.100006  372.500000  368.049988  371.329987  362.251160   \n",
       "2021-01-06  369.709991  376.980011  369.119995  373.549988  364.416840   \n",
       "2021-01-07  376.100006  379.899994  375.910004  379.100006  369.831146   \n",
       "2021-01-08  380.589996  381.489990  377.100006  381.260010  371.938416   \n",
       "...                ...         ...         ...         ...         ...   \n",
       "2022-11-07  377.709991  380.570007  375.529999  379.950012  379.950012   \n",
       "2022-11-08  381.109985  385.119995  377.720001  382.000000  382.000000   \n",
       "2022-11-09  379.929993  381.140015  373.609985  374.130005  374.130005   \n",
       "2022-11-10  388.049988  395.040009  385.640015  394.690002  394.690002   \n",
       "2022-11-11  395.589996  399.350006  393.609985  398.510010  398.510010   \n",
       "\n",
       "               Volume  \n",
       "Date                   \n",
       "2021-01-04  110210800  \n",
       "2021-01-05   66426200  \n",
       "2021-01-06  107997700  \n",
       "2021-01-07   68766800  \n",
       "2021-01-08   71677200  \n",
       "...               ...  \n",
       "2022-11-07   68286900  \n",
       "2022-11-08   84641100  \n",
       "2022-11-09   78495500  \n",
       "2022-11-10  141455800  \n",
       "2022-11-11   93758600  \n",
       "\n",
       "[470 rows x 6 columns]"
      ]
     },
     "execution_count": 43,
     "metadata": {},
     "output_type": "execute_result"
    }
   ],
   "source": [
    "# Print dataframe\n",
    "df"
   ]
  },
  {
   "cell_type": "code",
   "execution_count": 44,
   "id": "a0deb83d",
   "metadata": {},
   "outputs": [],
   "source": [
    "# Considering only closing values \n",
    "Close = df[\"Close\"]"
   ]
  },
  {
   "cell_type": "code",
   "execution_count": 45,
   "id": "b539499c",
   "metadata": {},
   "outputs": [
    {
     "name": "stdout",
     "output_type": "stream",
     "text": [
      "<class 'pandas.core.series.Series'>\n"
     ]
    }
   ],
   "source": [
    "# Checking the datatype of Close\n",
    "print(type(Close))"
   ]
  },
  {
   "cell_type": "code",
   "execution_count": 46,
   "id": "33fbe542",
   "metadata": {},
   "outputs": [],
   "source": [
    "# Extracting 6 ema using talib library\n",
    "ema6 = talib.EMA(Close, timeperiod = 6)"
   ]
  },
  {
   "cell_type": "code",
   "execution_count": 47,
   "id": "d2f29acf",
   "metadata": {},
   "outputs": [],
   "source": [
    "# Extracting 120 ema using talib library\n",
    "ema120 = talib.EMA(Close, timeperiod = 120)"
   ]
  },
  {
   "cell_type": "code",
   "execution_count": 48,
   "id": "2caa3d56",
   "metadata": {},
   "outputs": [
    {
     "data": {
      "text/plain": [
       "Date\n",
       "2021-01-04           NaN\n",
       "2021-01-05           NaN\n",
       "2021-01-06           NaN\n",
       "2021-01-07           NaN\n",
       "2021-01-08           NaN\n",
       "                 ...    \n",
       "2022-11-07    378.212994\n",
       "2022-11-08    379.294996\n",
       "2022-11-09    377.819284\n",
       "2022-11-10    382.639489\n",
       "2022-11-11    387.173924\n",
       "Length: 470, dtype: float64"
      ]
     },
     "execution_count": 48,
     "metadata": {},
     "output_type": "execute_result"
    }
   ],
   "source": [
    "# Printing EMA 6\n",
    "ema6"
   ]
  },
  {
   "cell_type": "code",
   "execution_count": 49,
   "id": "001cd0f8",
   "metadata": {},
   "outputs": [
    {
     "data": {
      "text/plain": [
       "Date\n",
       "2021-01-04           NaN\n",
       "2021-01-05           NaN\n",
       "2021-01-06           NaN\n",
       "2021-01-07           NaN\n",
       "2021-01-08           NaN\n",
       "                 ...    \n",
       "2022-11-07    392.813465\n",
       "2022-11-08    392.634730\n",
       "2022-11-09    392.328867\n",
       "2022-11-10    392.367894\n",
       "2022-11-11    392.469416\n",
       "Length: 470, dtype: float64"
      ]
     },
     "execution_count": 49,
     "metadata": {},
     "output_type": "execute_result"
    }
   ],
   "source": [
    "# Printing EMA120\n",
    "ema120"
   ]
  },
  {
   "cell_type": "code",
   "execution_count": 50,
   "id": "29e00768",
   "metadata": {},
   "outputs": [],
   "source": [
    "# Creating a new column by incorporating  EMA6 and EMA120 in the dataframe df\n",
    "#df[\"ema6\"] = ema6\n",
    "#df[\"ema120\"] = ema120"
   ]
  },
  {
   "cell_type": "code",
   "execution_count": 52,
   "id": "5f7da662",
   "metadata": {},
   "outputs": [],
   "source": [
    "# Dropping NAN vales in the Dataframe\n",
    "df =df.dropna()"
   ]
  },
  {
   "cell_type": "code",
   "execution_count": 53,
   "id": "78700051",
   "metadata": {},
   "outputs": [
    {
     "data": {
      "text/html": [
       "<div>\n",
       "<style scoped>\n",
       "    .dataframe tbody tr th:only-of-type {\n",
       "        vertical-align: middle;\n",
       "    }\n",
       "\n",
       "    .dataframe tbody tr th {\n",
       "        vertical-align: top;\n",
       "    }\n",
       "\n",
       "    .dataframe thead th {\n",
       "        text-align: right;\n",
       "    }\n",
       "</style>\n",
       "<table border=\"1\" class=\"dataframe\">\n",
       "  <thead>\n",
       "    <tr style=\"text-align: right;\">\n",
       "      <th></th>\n",
       "      <th>Open</th>\n",
       "      <th>High</th>\n",
       "      <th>Low</th>\n",
       "      <th>Close</th>\n",
       "      <th>Adj Close</th>\n",
       "      <th>Volume</th>\n",
       "    </tr>\n",
       "    <tr>\n",
       "      <th>Date</th>\n",
       "      <th></th>\n",
       "      <th></th>\n",
       "      <th></th>\n",
       "      <th></th>\n",
       "      <th></th>\n",
       "      <th></th>\n",
       "    </tr>\n",
       "  </thead>\n",
       "  <tbody>\n",
       "    <tr>\n",
       "      <th>2021-01-04</th>\n",
       "      <td>375.309998</td>\n",
       "      <td>375.450012</td>\n",
       "      <td>364.820007</td>\n",
       "      <td>368.790009</td>\n",
       "      <td>359.773285</td>\n",
       "      <td>110210800</td>\n",
       "    </tr>\n",
       "    <tr>\n",
       "      <th>2021-01-05</th>\n",
       "      <td>368.100006</td>\n",
       "      <td>372.500000</td>\n",
       "      <td>368.049988</td>\n",
       "      <td>371.329987</td>\n",
       "      <td>362.251160</td>\n",
       "      <td>66426200</td>\n",
       "    </tr>\n",
       "    <tr>\n",
       "      <th>2021-01-06</th>\n",
       "      <td>369.709991</td>\n",
       "      <td>376.980011</td>\n",
       "      <td>369.119995</td>\n",
       "      <td>373.549988</td>\n",
       "      <td>364.416840</td>\n",
       "      <td>107997700</td>\n",
       "    </tr>\n",
       "    <tr>\n",
       "      <th>2021-01-07</th>\n",
       "      <td>376.100006</td>\n",
       "      <td>379.899994</td>\n",
       "      <td>375.910004</td>\n",
       "      <td>379.100006</td>\n",
       "      <td>369.831146</td>\n",
       "      <td>68766800</td>\n",
       "    </tr>\n",
       "    <tr>\n",
       "      <th>2021-01-08</th>\n",
       "      <td>380.589996</td>\n",
       "      <td>381.489990</td>\n",
       "      <td>377.100006</td>\n",
       "      <td>381.260010</td>\n",
       "      <td>371.938416</td>\n",
       "      <td>71677200</td>\n",
       "    </tr>\n",
       "    <tr>\n",
       "      <th>...</th>\n",
       "      <td>...</td>\n",
       "      <td>...</td>\n",
       "      <td>...</td>\n",
       "      <td>...</td>\n",
       "      <td>...</td>\n",
       "      <td>...</td>\n",
       "    </tr>\n",
       "    <tr>\n",
       "      <th>2022-11-07</th>\n",
       "      <td>377.709991</td>\n",
       "      <td>380.570007</td>\n",
       "      <td>375.529999</td>\n",
       "      <td>379.950012</td>\n",
       "      <td>379.950012</td>\n",
       "      <td>68286900</td>\n",
       "    </tr>\n",
       "    <tr>\n",
       "      <th>2022-11-08</th>\n",
       "      <td>381.109985</td>\n",
       "      <td>385.119995</td>\n",
       "      <td>377.720001</td>\n",
       "      <td>382.000000</td>\n",
       "      <td>382.000000</td>\n",
       "      <td>84641100</td>\n",
       "    </tr>\n",
       "    <tr>\n",
       "      <th>2022-11-09</th>\n",
       "      <td>379.929993</td>\n",
       "      <td>381.140015</td>\n",
       "      <td>373.609985</td>\n",
       "      <td>374.130005</td>\n",
       "      <td>374.130005</td>\n",
       "      <td>78495500</td>\n",
       "    </tr>\n",
       "    <tr>\n",
       "      <th>2022-11-10</th>\n",
       "      <td>388.049988</td>\n",
       "      <td>395.040009</td>\n",
       "      <td>385.640015</td>\n",
       "      <td>394.690002</td>\n",
       "      <td>394.690002</td>\n",
       "      <td>141455800</td>\n",
       "    </tr>\n",
       "    <tr>\n",
       "      <th>2022-11-11</th>\n",
       "      <td>395.589996</td>\n",
       "      <td>399.350006</td>\n",
       "      <td>393.609985</td>\n",
       "      <td>398.510010</td>\n",
       "      <td>398.510010</td>\n",
       "      <td>93758600</td>\n",
       "    </tr>\n",
       "  </tbody>\n",
       "</table>\n",
       "<p>470 rows × 6 columns</p>\n",
       "</div>"
      ],
      "text/plain": [
       "                  Open        High         Low       Close   Adj Close  \\\n",
       "Date                                                                     \n",
       "2021-01-04  375.309998  375.450012  364.820007  368.790009  359.773285   \n",
       "2021-01-05  368.100006  372.500000  368.049988  371.329987  362.251160   \n",
       "2021-01-06  369.709991  376.980011  369.119995  373.549988  364.416840   \n",
       "2021-01-07  376.100006  379.899994  375.910004  379.100006  369.831146   \n",
       "2021-01-08  380.589996  381.489990  377.100006  381.260010  371.938416   \n",
       "...                ...         ...         ...         ...         ...   \n",
       "2022-11-07  377.709991  380.570007  375.529999  379.950012  379.950012   \n",
       "2022-11-08  381.109985  385.119995  377.720001  382.000000  382.000000   \n",
       "2022-11-09  379.929993  381.140015  373.609985  374.130005  374.130005   \n",
       "2022-11-10  388.049988  395.040009  385.640015  394.690002  394.690002   \n",
       "2022-11-11  395.589996  399.350006  393.609985  398.510010  398.510010   \n",
       "\n",
       "               Volume  \n",
       "Date                   \n",
       "2021-01-04  110210800  \n",
       "2021-01-05   66426200  \n",
       "2021-01-06  107997700  \n",
       "2021-01-07   68766800  \n",
       "2021-01-08   71677200  \n",
       "...               ...  \n",
       "2022-11-07   68286900  \n",
       "2022-11-08   84641100  \n",
       "2022-11-09   78495500  \n",
       "2022-11-10  141455800  \n",
       "2022-11-11   93758600  \n",
       "\n",
       "[470 rows x 6 columns]"
      ]
     },
     "execution_count": 53,
     "metadata": {},
     "output_type": "execute_result"
    }
   ],
   "source": [
    "df"
   ]
  },
  {
   "cell_type": "code",
   "execution_count": 54,
   "id": "5446a0ad",
   "metadata": {},
   "outputs": [],
   "source": [
    "# Plotting Close vs ema6 vs ema120\n",
    "#import matplotlib.pyplot as plt # Impot the relevant module\n",
    "#fig, ax = plt.subplots(figsize=(12, 5)) # Create the figure and axes object\n",
    "# Plot the first x and y axes:\n",
    "#df.plot( y = 'Close',ax = ax) \n",
    "#df.plot( y='ema6', ax= ax)\n",
    "# Plot the second x and y axes. By secondary_y = True a second y-axis is requested:\n",
    "# (see https://pandas.pydata.org/pandas-docs/stable/reference/api/pandas.DataFrame.plot.html for details)\n",
    "#df.plot(y = 'ema120', ax = ax,secondary_y =False) "
   ]
  },
  {
   "cell_type": "code",
   "execution_count": 55,
   "id": "02e7da39",
   "metadata": {},
   "outputs": [],
   "source": [
    "# Write DataFrame to CSV File with Default params.\n",
    "df.to_csv(\"C:/Users\\DELL\\Documents\\Python Scripts\\PYTHON 19-05-2021\\Scott/ema6ema120.csv\")"
   ]
  },
  {
   "cell_type": "code",
   "execution_count": 57,
   "id": "d5601ea9",
   "metadata": {},
   "outputs": [],
   "source": [
    "# Backtest the results using Backtrader"
   ]
  },
  {
   "cell_type": "code",
   "execution_count": 58,
   "id": "e443de3b",
   "metadata": {},
   "outputs": [],
   "source": [
    "import backtrader as bt\n",
    "import datetime\n",
    "#%matplotlib inline\n",
    "#from matplotlib import warnings"
   ]
  },
  {
   "cell_type": "code",
   "execution_count": 59,
   "id": "9643301c",
   "metadata": {},
   "outputs": [
    {
     "name": "stdout",
     "output_type": "stream",
     "text": [
      "Collecting matplotlib==3.2.2\n",
      "  Using cached matplotlib-3.2.2-cp39-cp39-win_amd64.whl (8.9 MB)\n",
      "Requirement already satisfied: kiwisolver>=1.0.1 in c:\\users\\dell\\anaconda3\\lib\\site-packages (from matplotlib==3.2.2) (1.3.2)\n",
      "Requirement already satisfied: numpy>=1.11 in c:\\users\\dell\\anaconda3\\lib\\site-packages (from matplotlib==3.2.2) (1.23.4)\n",
      "Requirement already satisfied: python-dateutil>=2.1 in c:\\users\\dell\\anaconda3\\lib\\site-packages (from matplotlib==3.2.2) (2.8.2)\n",
      "Requirement already satisfied: pyparsing!=2.0.4,!=2.1.2,!=2.1.6,>=2.0.1 in c:\\users\\dell\\anaconda3\\lib\\site-packages (from matplotlib==3.2.2) (3.0.4)\n",
      "Requirement already satisfied: cycler>=0.10 in c:\\users\\dell\\anaconda3\\lib\\site-packages (from matplotlib==3.2.2) (0.11.0)\n",
      "Requirement already satisfied: six>=1.5 in c:\\users\\dell\\anaconda3\\lib\\site-packages (from python-dateutil>=2.1->matplotlib==3.2.2) (1.16.0)\n",
      "Installing collected packages: matplotlib\n"
     ]
    },
    {
     "name": "stderr",
     "output_type": "stream",
     "text": [
      "WARNING: Ignoring invalid distribution -atplotlib (c:\\users\\dell\\anaconda3\\lib\\site-packages)\n",
      "WARNING: Ignoring invalid distribution -atplotlib (c:\\users\\dell\\anaconda3\\lib\\site-packages)\n",
      "WARNING: Ignoring invalid distribution -atplotlib (c:\\users\\dell\\anaconda3\\lib\\site-packages)\n",
      "ERROR: Could not install packages due to an OSError: [WinError 5] Access is denied: 'C:\\\\Users\\\\DELL\\\\anaconda3\\\\Lib\\\\site-packages\\\\matplotlib\\\\_path.cp39-win_amd64.pyd'\n",
      "Consider using the `--user` option or check the permissions.\n",
      "\n",
      "WARNING: Ignoring invalid distribution -atplotlib (c:\\users\\dell\\anaconda3\\lib\\site-packages)\n",
      "WARNING: Ignoring invalid distribution -atplotlib (c:\\users\\dell\\anaconda3\\lib\\site-packages)\n",
      "WARNING: Ignoring invalid distribution -atplotlib (c:\\users\\dell\\anaconda3\\lib\\site-packages)\n"
     ]
    }
   ],
   "source": [
    "!pip install matplotlib==3.2.2"
   ]
  },
  {
   "cell_type": "code",
   "execution_count": null,
   "id": "8aac716c",
   "metadata": {},
   "outputs": [],
   "source": []
  },
  {
   "cell_type": "code",
   "execution_count": 60,
   "id": "28ef4ec1",
   "metadata": {},
   "outputs": [],
   "source": [
    "cerebro = bt.Cerebro()"
   ]
  },
  {
   "cell_type": "code",
   "execution_count": 61,
   "id": "5fb4d144",
   "metadata": {},
   "outputs": [],
   "source": [
    "feed =bt.feeds.PandasData(dataname=df)"
   ]
  },
  {
   "cell_type": "code",
   "execution_count": 62,
   "id": "a3b21836",
   "metadata": {},
   "outputs": [
    {
     "data": {
      "text/plain": [
       "<backtrader.feeds.pandafeed.PandasData at 0x28d31103340>"
      ]
     },
     "execution_count": 62,
     "metadata": {},
     "output_type": "execute_result"
    }
   ],
   "source": [
    "cerebro.adddata(feed)"
   ]
  },
  {
   "cell_type": "code",
   "execution_count": 63,
   "id": "263a8ecb",
   "metadata": {},
   "outputs": [
    {
     "data": {
      "text/plain": [
       "[<backtrader.strategy.Strategy at 0x28d3113c340>]"
      ]
     },
     "execution_count": 63,
     "metadata": {},
     "output_type": "execute_result"
    }
   ],
   "source": [
    "cerebro.run()"
   ]
  },
  {
   "cell_type": "code",
   "execution_count": 64,
   "id": "92ac9840",
   "metadata": {},
   "outputs": [
    {
     "name": "stdout",
     "output_type": "stream",
     "text": [
      "Collecting matplotlib\n",
      "  Using cached matplotlib-3.6.2-cp39-cp39-win_amd64.whl (7.2 MB)\n",
      "Requirement already satisfied: pillow>=6.2.0 in c:\\users\\dell\\anaconda3\\lib\\site-packages (from matplotlib) (9.0.1)\n",
      "Requirement already satisfied: contourpy>=1.0.1 in c:\\users\\dell\\anaconda3\\lib\\site-packages (from matplotlib) (1.0.6)\n",
      "Requirement already satisfied: numpy>=1.19 in c:\\users\\dell\\anaconda3\\lib\\site-packages (from matplotlib) (1.23.4)\n",
      "Requirement already satisfied: python-dateutil>=2.7 in c:\\users\\dell\\anaconda3\\lib\\site-packages (from matplotlib) (2.8.2)\n",
      "Requirement already satisfied: kiwisolver>=1.0.1 in c:\\users\\dell\\anaconda3\\lib\\site-packages (from matplotlib) (1.3.2)\n",
      "Requirement already satisfied: packaging>=20.0 in c:\\users\\dell\\anaconda3\\lib\\site-packages (from matplotlib) (21.3)\n",
      "Requirement already satisfied: pyparsing>=2.2.1 in c:\\users\\dell\\anaconda3\\lib\\site-packages (from matplotlib) (3.0.4)\n",
      "Requirement already satisfied: fonttools>=4.22.0 in c:\\users\\dell\\anaconda3\\lib\\site-packages (from matplotlib) (4.25.0)\n",
      "Requirement already satisfied: cycler>=0.10 in c:\\users\\dell\\anaconda3\\lib\\site-packages (from matplotlib) (0.11.0)\n",
      "Requirement already satisfied: six>=1.5 in c:\\users\\dell\\anaconda3\\lib\\site-packages (from python-dateutil>=2.7->matplotlib) (1.16.0)\n",
      "Installing collected packages: matplotlib\n"
     ]
    },
    {
     "name": "stderr",
     "output_type": "stream",
     "text": [
      "WARNING: Ignoring invalid distribution -atplotlib (c:\\users\\dell\\anaconda3\\lib\\site-packages)\n",
      "WARNING: Ignoring invalid distribution -atplotlib (c:\\users\\dell\\anaconda3\\lib\\site-packages)\n",
      "WARNING: Ignoring invalid distribution -atplotlib (c:\\users\\dell\\anaconda3\\lib\\site-packages)\n",
      "ERROR: Could not install packages due to an OSError: [WinError 5] Access is denied: 'C:\\\\Users\\\\DELL\\\\anaconda3\\\\Lib\\\\site-packages\\\\matplotlib\\\\_c_internal_utils.cp39-win_amd64.pyd'\n",
      "Consider using the `--user` option or check the permissions.\n",
      "\n",
      "WARNING: Ignoring invalid distribution -atplotlib (c:\\users\\dell\\anaconda3\\lib\\site-packages)\n",
      "WARNING: Ignoring invalid distribution -atplotlib (c:\\users\\dell\\anaconda3\\lib\\site-packages)\n",
      "WARNING: Ignoring invalid distribution -atplotlib (c:\\users\\dell\\anaconda3\\lib\\site-packages)\n"
     ]
    },
    {
     "ename": "ImportError",
     "evalue": "cannot import name '_docstring' from partially initialized module 'matplotlib' (most likely due to a circular import) (C:\\Users\\DELL\\anaconda3\\lib\\site-packages\\matplotlib\\__init__.py)",
     "output_type": "error",
     "traceback": [
      "\u001b[1;31m---------------------------------------------------------------------------\u001b[0m",
      "\u001b[1;31mImportError\u001b[0m                               Traceback (most recent call last)",
      "Input \u001b[1;32mIn [64]\u001b[0m, in \u001b[0;36m<cell line: 2>\u001b[1;34m()\u001b[0m\n\u001b[0;32m      1\u001b[0m get_ipython()\u001b[38;5;241m.\u001b[39msystem(\u001b[38;5;124m'\u001b[39m\u001b[38;5;124mpip install matplotlib\u001b[39m\u001b[38;5;124m'\u001b[39m)\n\u001b[1;32m----> 2\u001b[0m \u001b[38;5;28;01mimport\u001b[39;00m \u001b[38;5;21;01mmatplotlib\u001b[39;00m \u001b[38;5;28;01mas\u001b[39;00m \u001b[38;5;21;01mpt\u001b[39;00m\n",
      "File \u001b[1;32m~\\anaconda3\\lib\\site-packages\\matplotlib\\__init__.py:113\u001b[0m, in \u001b[0;36m<module>\u001b[1;34m\u001b[0m\n\u001b[0;32m    105\u001b[0m \u001b[38;5;28;01mimport\u001b[39;00m \u001b[38;5;21;01msys\u001b[39;00m\n\u001b[0;32m    106\u001b[0m \u001b[38;5;28;01mif\u001b[39;00m sys\u001b[38;5;241m.\u001b[39mversion_info \u001b[38;5;241m<\u001b[39m (\u001b[38;5;241m3\u001b[39m, \u001b[38;5;241m5\u001b[39m):  \u001b[38;5;66;03m# noqa: E402\u001b[39;00m\n\u001b[0;32m    107\u001b[0m     \u001b[38;5;28;01mraise\u001b[39;00m \u001b[38;5;167;01mImportError\u001b[39;00m(\u001b[38;5;124m\"\"\"\u001b[39m\n\u001b[0;32m    108\u001b[0m \u001b[38;5;124mMatplotlib 3.0+ does not support Python 2.x, 3.0, 3.1, 3.2, 3.3, or 3.4.\u001b[39m\n\u001b[0;32m    109\u001b[0m \u001b[38;5;124mBeginning with Matplotlib 3.0, Python 3.5 and above is required.\u001b[39m\n\u001b[0;32m    110\u001b[0m \n\u001b[0;32m    111\u001b[0m \u001b[38;5;124mSee Matplotlib `INSTALL.rst` file for more information:\u001b[39m\n\u001b[0;32m    112\u001b[0m \n\u001b[1;32m--> 113\u001b[0m \u001b[38;5;124m    https://github.com/matplotlib/matplotlib/blob/master/INSTALL.rst\u001b[39m\n\u001b[0;32m    114\u001b[0m \n\u001b[0;32m    115\u001b[0m \u001b[38;5;124m\"\"\"\u001b[39m)\n\u001b[0;32m    117\u001b[0m \u001b[38;5;28;01mimport\u001b[39;00m \u001b[38;5;21;01matexit\u001b[39;00m\n\u001b[0;32m    118\u001b[0m \u001b[38;5;28;01mfrom\u001b[39;00m \u001b[38;5;21;01mcollections\u001b[39;00m \u001b[38;5;28;01mimport\u001b[39;00m namedtuple\n",
      "\u001b[1;31mImportError\u001b[0m: cannot import name '_docstring' from partially initialized module 'matplotlib' (most likely due to a circular import) (C:\\Users\\DELL\\anaconda3\\lib\\site-packages\\matplotlib\\__init__.py)"
     ]
    }
   ],
   "source": [
    "!pip install matplotlib\n",
    "import matplotlib as pt"
   ]
  },
  {
   "cell_type": "code",
   "execution_count": 65,
   "id": "4487b1fb",
   "metadata": {},
   "outputs": [
    {
     "ename": "ImportError",
     "evalue": "Matplotlib seems to be missing. Needed for plotting support",
     "output_type": "error",
     "traceback": [
      "\u001b[1;31m---------------------------------------------------------------------------\u001b[0m",
      "\u001b[1;31mImportError\u001b[0m                               Traceback (most recent call last)",
      "File \u001b[1;32m~\\anaconda3\\lib\\site-packages\\backtrader\\plot\\__init__.py:28\u001b[0m, in \u001b[0;36m<module>\u001b[1;34m\u001b[0m\n\u001b[0;32m     27\u001b[0m \u001b[38;5;28;01mtry\u001b[39;00m:\n\u001b[1;32m---> 28\u001b[0m     \u001b[38;5;28;01mimport\u001b[39;00m \u001b[38;5;21;01mmatplotlib\u001b[39;00m\n\u001b[0;32m     29\u001b[0m \u001b[38;5;28;01mexcept\u001b[39;00m \u001b[38;5;167;01mImportError\u001b[39;00m:\n",
      "File \u001b[1;32m~\\anaconda3\\lib\\site-packages\\matplotlib\\__init__.py:113\u001b[0m, in \u001b[0;36m<module>\u001b[1;34m\u001b[0m\n\u001b[0;32m    106\u001b[0m \u001b[38;5;28;01mif\u001b[39;00m sys\u001b[38;5;241m.\u001b[39mversion_info \u001b[38;5;241m<\u001b[39m (\u001b[38;5;241m3\u001b[39m, \u001b[38;5;241m5\u001b[39m):  \u001b[38;5;66;03m# noqa: E402\u001b[39;00m\n\u001b[0;32m    107\u001b[0m     \u001b[38;5;28;01mraise\u001b[39;00m \u001b[38;5;167;01mImportError\u001b[39;00m(\u001b[38;5;124m\"\"\"\u001b[39m\n\u001b[0;32m    108\u001b[0m \u001b[38;5;124mMatplotlib 3.0+ does not support Python 2.x, 3.0, 3.1, 3.2, 3.3, or 3.4.\u001b[39m\n\u001b[0;32m    109\u001b[0m \u001b[38;5;124mBeginning with Matplotlib 3.0, Python 3.5 and above is required.\u001b[39m\n\u001b[0;32m    110\u001b[0m \n\u001b[0;32m    111\u001b[0m \u001b[38;5;124mSee Matplotlib `INSTALL.rst` file for more information:\u001b[39m\n\u001b[0;32m    112\u001b[0m \n\u001b[1;32m--> 113\u001b[0m \u001b[38;5;124m    https://github.com/matplotlib/matplotlib/blob/master/INSTALL.rst\u001b[39m\n\u001b[0;32m    114\u001b[0m \n\u001b[0;32m    115\u001b[0m \u001b[38;5;124m\"\"\"\u001b[39m)\n\u001b[0;32m    117\u001b[0m \u001b[38;5;28;01mimport\u001b[39;00m \u001b[38;5;21;01matexit\u001b[39;00m\n",
      "\u001b[1;31mImportError\u001b[0m: cannot import name '_docstring' from partially initialized module 'matplotlib' (most likely due to a circular import) (C:\\Users\\DELL\\anaconda3\\lib\\site-packages\\matplotlib\\__init__.py)",
      "\nDuring handling of the above exception, another exception occurred:\n",
      "\u001b[1;31mImportError\u001b[0m                               Traceback (most recent call last)",
      "Input \u001b[1;32mIn [65]\u001b[0m, in \u001b[0;36m<cell line: 1>\u001b[1;34m()\u001b[0m\n\u001b[1;32m----> 1\u001b[0m \u001b[43mcerebro\u001b[49m\u001b[38;5;241;43m.\u001b[39;49m\u001b[43mplot\u001b[49m\u001b[43m(\u001b[49m\u001b[43m)\u001b[49m\n",
      "File \u001b[1;32m~\\anaconda3\\lib\\site-packages\\backtrader\\cerebro.py:974\u001b[0m, in \u001b[0;36mCerebro.plot\u001b[1;34m(self, plotter, numfigs, iplot, start, end, width, height, dpi, tight, use, **kwargs)\u001b[0m\n\u001b[0;32m    971\u001b[0m     \u001b[38;5;28;01mreturn\u001b[39;00m\n\u001b[0;32m    973\u001b[0m \u001b[38;5;28;01mif\u001b[39;00m \u001b[38;5;129;01mnot\u001b[39;00m plotter:\n\u001b[1;32m--> 974\u001b[0m     \u001b[38;5;28;01mfrom\u001b[39;00m \u001b[38;5;21;01m.\u001b[39;00m \u001b[38;5;28;01mimport\u001b[39;00m plot\n\u001b[0;32m    975\u001b[0m     \u001b[38;5;28;01mif\u001b[39;00m \u001b[38;5;28mself\u001b[39m\u001b[38;5;241m.\u001b[39mp\u001b[38;5;241m.\u001b[39moldsync:\n\u001b[0;32m    976\u001b[0m         plotter \u001b[38;5;241m=\u001b[39m plot\u001b[38;5;241m.\u001b[39mPlot_OldSync(\u001b[38;5;241m*\u001b[39m\u001b[38;5;241m*\u001b[39mkwargs)\n",
      "File \u001b[1;32m~\\anaconda3\\lib\\site-packages\\backtrader\\plot\\__init__.py:30\u001b[0m, in \u001b[0;36m<module>\u001b[1;34m\u001b[0m\n\u001b[0;32m     28\u001b[0m     \u001b[38;5;28;01mimport\u001b[39;00m \u001b[38;5;21;01mmatplotlib\u001b[39;00m\n\u001b[0;32m     29\u001b[0m \u001b[38;5;28;01mexcept\u001b[39;00m \u001b[38;5;167;01mImportError\u001b[39;00m:\n\u001b[1;32m---> 30\u001b[0m     \u001b[38;5;28;01mraise\u001b[39;00m \u001b[38;5;167;01mImportError\u001b[39;00m(\n\u001b[0;32m     31\u001b[0m         \u001b[38;5;124m'\u001b[39m\u001b[38;5;124mMatplotlib seems to be missing. Needed for plotting support\u001b[39m\u001b[38;5;124m'\u001b[39m)\n\u001b[0;32m     32\u001b[0m \u001b[38;5;28;01melse\u001b[39;00m:\n\u001b[0;32m     33\u001b[0m     touse \u001b[38;5;241m=\u001b[39m \u001b[38;5;124m'\u001b[39m\u001b[38;5;124mTKAgg\u001b[39m\u001b[38;5;124m'\u001b[39m \u001b[38;5;28;01mif\u001b[39;00m sys\u001b[38;5;241m.\u001b[39mplatform \u001b[38;5;241m!=\u001b[39m \u001b[38;5;124m'\u001b[39m\u001b[38;5;124mdarwin\u001b[39m\u001b[38;5;124m'\u001b[39m \u001b[38;5;28;01melse\u001b[39;00m \u001b[38;5;124m'\u001b[39m\u001b[38;5;124mMacOSX\u001b[39m\u001b[38;5;124m'\u001b[39m\n",
      "\u001b[1;31mImportError\u001b[0m: Matplotlib seems to be missing. Needed for plotting support"
     ]
    }
   ],
   "source": [
    "cerebro.plot()"
   ]
  },
  {
   "cell_type": "code",
   "execution_count": null,
   "id": "d72b2e2d",
   "metadata": {},
   "outputs": [],
   "source": [
    "#!pip install -U basemap"
   ]
  },
  {
   "cell_type": "code",
   "execution_count": null,
   "id": "f7bcfa94",
   "metadata": {},
   "outputs": [],
   "source": []
  },
  {
   "cell_type": "code",
   "execution_count": null,
   "id": "7fd9fb4d",
   "metadata": {},
   "outputs": [],
   "source": []
  },
  {
   "cell_type": "code",
   "execution_count": null,
   "id": "cdcbb0ee",
   "metadata": {},
   "outputs": [],
   "source": []
  }
 ],
 "metadata": {
  "kernelspec": {
   "display_name": "Python 3 (ipykernel)",
   "language": "python",
   "name": "python3"
  },
  "language_info": {
   "codemirror_mode": {
    "name": "ipython",
    "version": 3
   },
   "file_extension": ".py",
   "mimetype": "text/x-python",
   "name": "python",
   "nbconvert_exporter": "python",
   "pygments_lexer": "ipython3",
   "version": "3.9.12"
  }
 },
 "nbformat": 4,
 "nbformat_minor": 5
}
